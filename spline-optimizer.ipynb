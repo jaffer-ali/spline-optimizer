{
 "cells": [
  {
   "cell_type": "code",
   "execution_count": 120,
   "metadata": {},
   "outputs": [],
   "source": [
    "import math\n",
    "import pandas as pd\n",
    "import numpy as np\n",
    "import matplotlib.pyplot as plt\n",
    "from mpl_toolkits import mplot3d"
   ]
  },
  {
   "cell_type": "markdown",
   "metadata": {},
   "source": [
    "\n",
    "# B92 Involute Spline Optimizer\n",
    "\n",
    "Written in the same format as shaft optimizer  \n",
    "\n",
    "This only factors in root stresses of splines. Validate tubes by simplifying splines to the minimum diameter and the ID of the tube.   \n",
    "\n",
    "All splines are assumed to be Fillet root with a side fit"
   ]
  },
  {
   "cell_type": "markdown",
   "metadata": {},
   "source": [
    "## Material Definitions\n",
    "\n",
    "Pulled from my torque selection script. I plan to make a library with materials and other useful methods included here."
   ]
  },
  {
   "cell_type": "code",
   "execution_count": 121,
   "metadata": {},
   "outputs": [],
   "source": [
    "#TODO add tensile strength\n",
    "\n",
    "materials = { # all stresses are in lb-in^2, density lb/in^3\n",
    "    'al7075' : {\n",
    "        \"material_name\": 'al7075',\n",
    "        \"shear_stress\": 48000,\n",
    "        \"tensile_stress\": 73000,\n",
    "        \"density\": .102,\n",
    "    },\n",
    "    'al6061' : {\n",
    "        \"material_name\": 'al6061',\n",
    "        \"shear_stress\": 30000,\n",
    "        \"tensile_stress\": 42000,\n",
    "        \"density\": .0975,\n",
    "    },\n",
    "    '4340' : {\n",
    "        \"material_name\": '4340',\n",
    "        \"max_shear_stress\": 185900,\n",
    "        \"max_tensile_stress\": 185900,\n",
    "        \"density\": 0.284,\n",
    "    },\n",
    "}"
   ]
  },
  {
   "cell_type": "code",
   "execution_count": 122,
   "metadata": {},
   "outputs": [],
   "source": [
    "#Constants\n",
    "\n",
    "## https://www.zakgear.com/External_Spline_tables.html\n",
    "\n",
    "#TODO ADD CONSTANT CONSIDERATION\n",
    "K_m = 1\n",
    "#K_l = 2\n",
    "#K_o = 1\n",
    "#K_t = 1\n",
    "\n",
    "L = 1 \n",
    "\n",
    "pitch_selection = [2.5,3,4,5,6,8,10,12,16,20,24,32,40,48]\n",
    "\n",
    "inp_torque = 300\n"
   ]
  },
  {
   "cell_type": "markdown",
   "metadata": {},
   "source": [
    "## Tooth Geometry\n",
    "\n",
    "I'm too lazy to go through the math behind this. These equations are pulled from B92 standards."
   ]
  },
  {
   "cell_type": "code",
   "execution_count": 123,
   "metadata": {},
   "outputs": [],
   "source": [
    "# tooth geometry\n",
    "\n",
    "def get_pitch_diameter(N, P):\n",
    "    return N/P\n",
    "\n",
    "def get_tooth_height(N, P, φ): # major - minor diameter\n",
    "    D_o = (N + 1)/P\n",
    "\n",
    "    #for bmt (and my) sanity pressure angle will be assumed to be 30 degrees\n",
    "    if P < 12 and P > 2.5:\n",
    "        D_r = (N - 1.8)/P\n",
    "    elif P < 16:\n",
    "        D_r = (N - 2)/P\n",
    "    else:\n",
    "        D_r = (N - 2.3)/P\n",
    "    \n",
    "    return D_o - D_r\n",
    "    \n",
    "\n",
    "def get_tooth_thickness(P):\n",
    "    return math.pi/(2*P)\n",
    "\n",
    "def get_max_effective_length(pitch_diameter): # line fit for fixed splines with helix modification\n",
    "    return -1 + 7/5*pitch_diameter"
   ]
  },
  {
   "cell_type": "markdown",
   "metadata": {},
   "source": [
    "*All tooth geometry is a function of pressure angle, pitch diameter, and number of teeth. Equations are pulled from BDM-1550.*"
   ]
  },
  {
   "cell_type": "markdown",
   "metadata": {},
   "source": [
    "## Max torsional stress of shaft\n",
    "\n",
    "$T_{max}$ = $ \\frac{\\pi}{16}τ_{max}(d^4) $\n",
    "\n",
    "$τ_{max}$ = Max Shear Stress  \n",
    "$d$ = Max Diameter   \n",
    "$t$ = Thickness   "
   ]
  },
  {
   "cell_type": "code",
   "execution_count": 132,
   "metadata": {},
   "outputs": [],
   "source": [
    "def get_torsional_stress(τ_max, t, d):\n",
    "    return (math.pi/16) * τ_max * ((d**4) - ((d - t)**4))/d"
   ]
  },
  {
   "cell_type": "markdown",
   "metadata": {},
   "source": [
    "## Max shear stress on teeth\n",
    "\n",
    "$t_c = \\frac{D}{2N}$  \n",
    "\n",
    "$τ_{max}$ = $\\frac{4TK_m}{DNF_et_c} $\n",
    "\n",
    "$T = \\frac{τ_{max}DNF_et_c}{TK_m}$\n",
    "\n",
    "$T$ = Torque in/lb  \n",
    "$K_m$ = Load distribution factor   \n",
    "$D$ = pitch diameter, in  \n",
    "$N$ = number of spline teeth    \n",
    "$F_e$ = effective spline contact length, in  \n",
    "$t_c$ = chordal thickness at pitch line (D/2N), in  \n",
    "$τ_{max}$ = Max shear stress of splines, psi  \n"
   ]
  },
  {
   "cell_type": "code",
   "execution_count": 125,
   "metadata": {},
   "outputs": [],
   "source": [
    "def get_max_shear_torque(D, N, F_e, τ_max):\n",
    "    t_c = D/2*N\n",
    "\n",
    "    return (τ_max*D*N*F_e*t_c)/(4*K_m)"
   ]
  },
  {
   "cell_type": "markdown",
   "metadata": {},
   "source": [
    "## Max compressive stress on teeth\n",
    "\n",
    "$p_{max}$ = $\\frac{2TK_m}{DNF_eh} $\n",
    "\n",
    "$T = \\frac{p_{max}DNF_eh}{TK_m}$\n",
    "\n",
    "$T$ = Torque in/lb  \n",
    "$K_m$ = Load distribution factor   \n",
    "$D$ = pitch diameter, in  \n",
    "$N$ = number of spline teeth    \n",
    "$F_e$ = effective spline contact length, in  \n",
    "$h$ = Tooth height, in  \n",
    "$p_{max}$ = Max compressive stress of splines, psi  \n"
   ]
  },
  {
   "cell_type": "code",
   "execution_count": 126,
   "metadata": {},
   "outputs": [],
   "source": [
    "def get_max_compressive_torque(D,N,F_e,p_max,h):\n",
    "    return (p_max*D*N*F_e*h)/(2*K_m)"
   ]
  },
  {
   "cell_type": "markdown",
   "metadata": {},
   "source": [
    "## Max torsional ID\n",
    "\n",
    "$D_i = {(D_o^3-\\frac{16T_{max}}{τ_{max}\\pi})}^{\\frac{1}{4}}$\n",
    "\n",
    "$T_{max}$ = Max Torque, in/lb  \n",
    "$D_h$ = Maximum ID, in  \n",
    "$D_o$ = Input OD, in  \n",
    "$τ_{max}$ = Max Shear Stress, psi  "
   ]
  },
  {
   "cell_type": "code",
   "execution_count": 127,
   "metadata": {},
   "outputs": [],
   "source": [
    "def get_max_id(τ_max, T_max, D_o):\n",
    "    return (D_o**3 - (16*T_max)/(τ_max*math.pi))**(1/4)"
   ]
  },
  {
   "cell_type": "markdown",
   "metadata": {},
   "source": [
    "## Planar Mass\n",
    "\n",
    "Get mass of planar cross section of tube\n",
    "\n",
    "$M = \\frac{\\pi{d}}{2}^{2} - {\\pi(\\frac{d}{2} - t)}^{2}\\rho$\n",
    "\n",
    "$d$ = OD  \n",
    "$t$ = Thickness  \n",
    "$\\rho$ = Density  "
   ]
  },
  {
   "cell_type": "code",
   "execution_count": 128,
   "metadata": {},
   "outputs": [],
   "source": [
    "def get_tube_planar_mass(t, d, ρ):\n",
    "    return (math.pi * (d/2)**2 - (math.pi * (d/2 - t)**2)) * ρ"
   ]
  },
  {
   "cell_type": "markdown",
   "metadata": {},
   "source": [
    "##### Max Torque\n",
    "\n",
    "Takes the minimum torque value out of all the previously mentioned methods"
   ]
  },
  {
   "cell_type": "code",
   "execution_count": 133,
   "metadata": {},
   "outputs": [],
   "source": [
    "def get_max_torque(N,L,H,D,id, S_c, S_sa):\n",
    "    max_shear_torque = get_max_shear_torque(D, N, L, S_sa)\n",
    "\n",
    "    max_compressive_torque = get_max_compressive_torque(D,N,L,S_c,H)\n",
    "    \n",
    "    max_torsional_torque = get_torsional_stress(S_sa, D - id, D).real\n",
    "\n",
    "    \n",
    "    return min(max_shear_torque, max_compressive_torque, max_torsional_torque)\n"
   ]
  },
  {
   "cell_type": "markdown",
   "metadata": {},
   "source": [
    "## Plot\n",
    "\n",
    "Simple 3D Plot using matplotlib"
   ]
  },
  {
   "cell_type": "code",
   "execution_count": 130,
   "metadata": {},
   "outputs": [],
   "source": [
    "def NPplot(material, zaxis):\n",
    "    ax = plt.axes(projection='3d')\n",
    "\n",
    "    zdata = material[zaxis]\n",
    "    xdata = material[\"N\"]\n",
    "    ydata = material[\"P\"]\n",
    "    \n",
    "    ax.set_xlabel('N')\n",
    "    ax.set_ylabel('P')\n",
    "    ax.set_zlabel(zaxis)\n",
    "    \n",
    "    ax.scatter3D(xdata, ydata, zdata, c=zdata)\n",
    "\n",
    "    plt.title(material[\"material_name\"])\n",
    "    plt.show()\n",
    "    "
   ]
  },
  {
   "cell_type": "code",
   "execution_count": 135,
   "metadata": {},
   "outputs": [
    {
     "data": {
      "image/png": "[encoded data removed]",
      "text/plain": [
       "<Figure size 432x288 with 1 Axes>"
      ]
     },
     "metadata": {
      "needs_background": "light"
     },
     "output_type": "display_data"
    }
   ],
   "source": [
    "#for material_name, material in materials.items():\n",
    "material = materials[\"al7075\"]\n",
    "\n",
    "material[\"P\"] = []\n",
    "material[\"N\"] = []\n",
    "material[\"max_torque\"] = []\n",
    "material[\"planar_mass\"] = []\n",
    "material[\"id\"] = []\n",
    "\n",
    "shear_stress = material[\"shear_stress\"]\n",
    "tensile_stress = material[\"tensile_stress\"]\n",
    "\n",
    "    # compressive_stress(N,L,H,D, S_c, K_m, K_l, K_o, K_t)\n",
    "\n",
    "# https://www.zakgear.com/External_Spline_tables.html\n",
    "for P in pitch_selection: \n",
    "    for N in range(6,60):\n",
    "        D = get_pitch_diameter(N, P)\n",
    "        H = get_tooth_height(N, P, 30)\n",
    "        t = get_tooth_thickness(P)\n",
    "\n",
    "        id = get_max_id(shear_stress, inp_torque, D)\n",
    "\n",
    "        T = get_max_torque(N,L,H,D,id,tensile_stress,shear_stress)\n",
    "\n",
    "        planar_mass = get_tube_planar_mass(D - id, D, material[\"density\"])\n",
    "\n",
    "        max_L = get_max_effective_length(D)\n",
    "\n",
    "        if True:#(T > inp_torque): #or (max_L < L): # TODO: generate graphs without max effective length to see difference\n",
    "            material[\"P\"].append(P)\n",
    "            material[\"N\"].append(N)\n",
    "            material[\"max_torque\"].append(T)\n",
    "            material[\"id\"].append(id)\n",
    "            material[\"planar_mass\"].append(planar_mass)\n",
    "\n",
    "NPplot(material, \"max_torque\") # TODO write max_torque planar_mass cost function\n",
    "#NPplot(material, \"planar_mass\") "
   ]
  }
 ],
 "metadata": {
  "interpreter": {
   "hash": "9b5c064bf42a88326a161c2b22b344efee4ef0d57cf40486db171681308e59ef"
  },
  "kernelspec": {
   "display_name": "Python 3.10.5 64-bit (windows store)",
   "language": "python",
   "name": "python3"
  },
  "language_info": {
   "codemirror_mode": {
    "name": "ipython",
    "version": 3
   },
   "file_extension": ".py",
   "mimetype": "text/x-python",
   "name": "python",
   "nbconvert_exporter": "python",
   "pygments_lexer": "ipython3",
   "version": "3.10.5"
  },
  "orig_nbformat": 4
 },
 "nbformat": 4,
 "nbformat_minor": 2
}
