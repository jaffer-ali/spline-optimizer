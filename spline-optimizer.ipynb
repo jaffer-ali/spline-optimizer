{
 "cells": [
  {
   "cell_type": "code",
   "execution_count": 6,
   "metadata": {},
   "outputs": [],
   "source": [
    "import math\n",
    "import pandas as pd\n",
    "import numpy as np\n",
    "import matplotlib.pyplot as plt\n",
    "from mpl_toolkits import mplot3d"
   ]
  },
  {
   "cell_type": "markdown",
   "metadata": {},
   "source": [
    "\n",
    "# B92 Involute Spline Optimizer\n",
    "\n",
    "Written in the same format as shaft optimizer  \n",
    "\n",
    "This only factors in root stresses of splines. Validate tubes by simplifying splines to the minimum diameter and the ID of the tube.   \n",
    "\n",
    "All splines are assumed to be Fillet root with a side fit"
   ]
  },
  {
   "cell_type": "code",
   "execution_count": 7,
   "metadata": {},
   "outputs": [],
   "source": [
    "#TODO add tensile strength\n",
    "\n",
    "materials = { # all stresses are in lb-ft^2, density lb/in^3\n",
    "    'al7075' : {\n",
    "        \"material_name\": 'al7075',\n",
    "        \"shear_stress\": 6912000,\n",
    "        \"density\": .102,\n",
    "    },\n",
    "    'al6061' : {\n",
    "        \"material_name\": 'al6061',\n",
    "        \"shear_stress\": 4320000,\n",
    "        \"density\": .0975,\n",
    "    },\n",
    "    '4340_annealed' : {\n",
    "        \"material_name\": '4340_annealed',\n",
    "        \"shear_stress\": 9072000,\n",
    "        \"density\": .284,\n",
    "    },\n",
    "   '4340_normalized' : {\n",
    "        \"material_name\": '4340_normalized',\n",
    "        \"shear_stress\": 15840000,\n",
    "        \"density\": .284,\n",
    "    }\n",
    "}"
   ]
  },
  {
   "cell_type": "code",
   "execution_count": 8,
   "metadata": {},
   "outputs": [
    {
     "ename": "SyntaxError",
     "evalue": "expected ':' (1832050991.py, line 23)",
     "output_type": "error",
     "traceback": [
      "\u001b[1;36m  Input \u001b[1;32mIn [8]\u001b[1;36m\u001b[0m\n\u001b[1;33m    def max_effective_length(pitch_diameter) # line fit for fixed splines with helix modification\u001b[0m\n\u001b[1;37m                                             ^\u001b[0m\n\u001b[1;31mSyntaxError\u001b[0m\u001b[1;31m:\u001b[0m expected ':'\n"
     ]
    }
   ],
   "source": [
    "# tooth geometry\n",
    "\n",
    "def get_pitch_diameter(N, P):\n",
    "    return N/P\n",
    "\n",
    "def get_tooth_height(N, P, φ): # major - minor diameter\n",
    "    D_o = (N + 1)/P\n",
    "\n",
    "    #for bmt (and my) sanity pressure angle will be assumed to be 30 degrees\n",
    "    if P < 12 and P > 2.5:\n",
    "        D_r = (N - 1.8)/P\n",
    "    elif P < 16:\n",
    "        D_r = (N - 2)/P\n",
    "    else:\n",
    "        D_r = (N - 2.3)/P\n",
    "    \n",
    "    return D_o - D_r\n",
    "    \n",
    "\n",
    "def get_tooth_thickness(P):\n",
    "    return math.pi/(2*P)\n",
    "\n",
    "def max_effective_length(pitch_diameter): # line fit for fixed splines with helix modification\n",
    "    return -1 + 7/5*pitch_diameter"
   ]
  },
  {
   "cell_type": "markdown",
   "metadata": {},
   "source": [
    "*All tooth geometry is a function of pressure angle, pitch diameter, and number of teeth. Equations are pulled from BDM-1550.*"
   ]
  },
  {
   "cell_type": "code",
   "execution_count": null,
   "metadata": {},
   "outputs": [],
   "source": [
    "#methods from shaft optimizer\n",
    "def get_torsional_torque(shear_stress, thickness, diameter):\n",
    "    t = thickness/12\n",
    "    d = diameter/12\n",
    "    \n",
    "    return (math.pi/16) * shear_stress * (d**4 - (d - t)**4)/d\n",
    "\n",
    "def get_max_id(shear_stress, max_torque, diameter):\n",
    "    return ((max_torque/shear_stress)*(16/math.pi)*diameter - diameter**4)**(1/4)\n",
    "\n",
    "\n",
    "def get_tube_planar_mass(thickness, diameter, density):\n",
    "    return (math.pi * (diameter/2)**2 - (math.pi * (diameter/2 - thickness)**2)) * density\n",
    "\n",
    "def compressive_stress(N,L,H,D, S_c, K_m, K_l, K_o, K_t): #compressive stress for fixed splines\n",
    "    \n",
    "    teeth_parameters = N*L*H*D\n",
    "\n",
    "    return ((S_c * teeth_parameters)/(2*K_m)) * (K_l/(K_o*K_t))\n",
    "\n",
    "def shear_stress(N,L,t,D, K_m, S_sa, K_l, K_o):\n",
    "    teeth_parameters = N*L*t*D\n",
    "\n",
    "    return S_sa * teeth_parameters * (K_l/K_o) * (1/(2*K_m))\n",
    "\n",
    "def get_max_torque(N,L,H,D,id, S_c, S_sa, K_m, K_l, K_o, K_t):\n",
    "    max_shear_torque = shear_stress(N,L,t,D, K_m, S_sa, K_l, K_o)\n",
    "    max_compressive_torque = compressive_stress(N,L,H,D, S_c, K_m, K_l, K_o, K_t)\n",
    "    max_torsional_torque = get_torsional_torque(S_sa, D - id, D)\n",
    "\n",
    "    return math.min(max_shear_torque, max_compressive_torque, max_torsional_torque)\n"
   ]
  },
  {
   "cell_type": "markdown",
   "metadata": {},
   "source": [
    "### Parameters\n",
    "\n",
    "**S_c** - compressive stress (psi)  \n",
    "**S_s** - shear stress (psi)  \n",
    "**S_sa** - allowable shear stress (psi)  \n",
    "**S_ca** - allowable contact stress (psi) ~ generalized to compressive stress  \n",
    "\n",
    "**T** - torque (in-lb)  \n",
    "\n",
    "**D** - pitch diameter (in)  \n",
    "**N** - number of teeth  \n",
    "**L** - spline length  \n",
    "**H** - tooth height   \n",
    "**t** - tooth thickness (in)  \n",
    "**φ** - Pressure Angle  \n",
    "**P** - Pitch\n",
    "\n",
    "**K_m** - load distribution factor (fraction of splines engaged)  \n",
    "**K_l** - life factor  \n",
    "**K_o** - overload factor  \n",
    "**K_t** - spline type factor  \n",
    "\n"
   ]
  },
  {
   "cell_type": "code",
   "execution_count": null,
   "metadata": {},
   "outputs": [],
   "source": [
    "def NPplot(material, zaxis):\n",
    "    ax = plt.axes(projection='3d')\n",
    "\n",
    "    zdata = material[zaxis]\n",
    "    xdata = material[\"N\"]\n",
    "    ydata = material[\"P\"]\n",
    "    \n",
    "    ax.set_xlabel('N')\n",
    "    ax.set_ylabel('P')\n",
    "    ax.set_zlabel(zaxis)\n",
    "    \n",
    "    ax.set_ylim(0,.05)\n",
    "\n",
    "    ax.scatter3D(xdata, ydata, zdata, c=zdata)\n",
    "\n",
    "    plt.title(material[\"material_name\"])\n",
    "    plt.show()"
   ]
  },
  {
   "cell_type": "code",
   "execution_count": null,
   "metadata": {},
   "outputs": [],
   "source": [
    "#Constants\n",
    "\n",
    "\n",
    "K_m = 0.5\n",
    "K_l = 1\n",
    "K_o = 1\n",
    "K_t = 1\n",
    "\n",
    "L = 1 \n",
    "\n",
    "pitch_selection = [2.5,3,4,5,6,8,10,12,16,20,24,32,40,48]\n",
    "\n",
    "inp_torque = 300\n"
   ]
  },
  {
   "cell_type": "code",
   "execution_count": 10,
   "metadata": {},
   "outputs": [
    {
     "ename": "KeyError",
     "evalue": "'tensile_stress'",
     "output_type": "error",
     "traceback": [
      "\u001b[1;31m---------------------------------------------------------------------------\u001b[0m",
      "\u001b[1;31mKeyError\u001b[0m                                  Traceback (most recent call last)",
      "\u001b[1;32mc:\\dev\\spline-optimizer\\spline-optimizer.ipynb Cell 10'\u001b[0m in \u001b[0;36m<cell line: 1>\u001b[1;34m()\u001b[0m\n\u001b[0;32m      <a href='vscode-notebook-cell:/c%3A/dev/spline-optimizer/spline-optimizer.ipynb#ch0000012?line=5'>6</a>\u001b[0m material[\u001b[39m\"\u001b[39m\u001b[39mid\u001b[39m\u001b[39m\"\u001b[39m] \u001b[39m=\u001b[39m []\n\u001b[0;32m      <a href='vscode-notebook-cell:/c%3A/dev/spline-optimizer/spline-optimizer.ipynb#ch0000012?line=7'>8</a>\u001b[0m shear_stress \u001b[39m=\u001b[39m material[\u001b[39m\"\u001b[39m\u001b[39mshear_stress\u001b[39m\u001b[39m\"\u001b[39m]\n\u001b[1;32m----> <a href='vscode-notebook-cell:/c%3A/dev/spline-optimizer/spline-optimizer.ipynb#ch0000012?line=8'>9</a>\u001b[0m tensile_stress \u001b[39m=\u001b[39m material[\u001b[39m\"\u001b[39;49m\u001b[39mtensile_stress\u001b[39;49m\u001b[39m\"\u001b[39;49m]\n\u001b[0;32m     <a href='vscode-notebook-cell:/c%3A/dev/spline-optimizer/spline-optimizer.ipynb#ch0000012?line=10'>11</a>\u001b[0m \u001b[39m# compressive_stress(N,L,H,D, S_c, K_m, K_l, K_o, K_t)\u001b[39;00m\n\u001b[0;32m     <a href='vscode-notebook-cell:/c%3A/dev/spline-optimizer/spline-optimizer.ipynb#ch0000012?line=12'>13</a>\u001b[0m \u001b[39mfor\u001b[39;00m P \u001b[39min\u001b[39;00m pitch_selection: \n",
      "\u001b[1;31mKeyError\u001b[0m: 'tensile_stress'"
     ]
    }
   ],
   "source": [
    "for material_name, material in materials.items():\n",
    "    material[\"P\"] = []\n",
    "    material[\"N\"] = []\n",
    "    material[\"max_torque\"] = []\n",
    "    material[\"planar_mass\"] = []\n",
    "    material[\"id\"] = []\n",
    "\n",
    "    shear_stress = material[\"shear_stress\"]\n",
    "    tensile_stress = material[\"tensile_stress\"]\n",
    "\n",
    "    # compressive_stress(N,L,H,D, S_c, K_m, K_l, K_o, K_t)\n",
    "\n",
    "    for P in pitch_selection: \n",
    "        for N in range(6,60):\n",
    "            D = get_pitch_diameter(N, P)\n",
    "            H = get_tooth_height(N, P, 30)\n",
    "            t = get_tooth_thickness(P)\n",
    "\n",
    "            id = get_max_id(shear_stress, inp_torque, D)\n",
    "            T = get_max_torque(N,L,H,D,id,material[\"tensile_stress\"], material[\"shear_stress\"], K_m, K_l, K_o, K_t)\n",
    "            planar_mass = get_tube_planar_mass(D - id, D, material[\"density\"])\n",
    "            \n",
    "            if (T > inp_torque) or (max_effective_length(D) < L): # TODO: generate graphs without max effective length to see difference\n",
    "                material[\"max_torque\"].append(T)\n",
    "                material[\"id\"].append(id)\n",
    "                material[\"planar_mass\"].append(planar_mass)\n",
    "    \n",
    "    \n",
    "    NPplot(material, \"max_torque\") # TODO write max_torque planar_mass cost function\n",
    "    NPplot(material, \"planar_mass\")\n",
    "            "
   ]
  }
 ],
 "metadata": {
  "interpreter": {
   "hash": "9b5c064bf42a88326a161c2b22b344efee4ef0d57cf40486db171681308e59ef"
  },
  "kernelspec": {
   "display_name": "Python 3.10.5 64-bit (windows store)",
   "language": "python",
   "name": "python3"
  },
  "language_info": {
   "codemirror_mode": {
    "name": "ipython",
    "version": 3
   },
   "file_extension": ".py",
   "mimetype": "text/x-python",
   "name": "python",
   "nbconvert_exporter": "python",
   "pygments_lexer": "ipython3",
   "version": "3.10.5"
  },
  "orig_nbformat": 4
 },
 "nbformat": 4,
 "nbformat_minor": 2
}
